{
 "cells": [
  {
   "cell_type": "markdown",
   "metadata": {
    "colab_type": "text",
    "id": "view-in-github"
   },
   "source": [
    "<a href=\"https://colab.research.google.com/github/ek-ok/DeepShack/blob/poc/train/train.ipynb\" target=\"_parent\"><img src=\"https://colab.research.google.com/assets/colab-badge.svg\" alt=\"Open In Colab\"/></a>"
   ]
  },
  {
   "cell_type": "code",
   "execution_count": null,
   "metadata": {
    "colab": {
     "base_uri": "https://localhost:8080/",
     "height": 122
    },
    "colab_type": "code",
    "id": "0K-T6ntRyxL0",
    "outputId": "2597f0b4-bf9b-40a3-9c9b-fa3399e4a951"
   },
   "outputs": [],
   "source": [
    "from google.colab import drive\n",
    "drive.mount('/content/drive/')\n",
    "\n",
    "import os\n",
    "os.chdir('/content/drive/My Drive/Colab Notebooks/DeepShack/train')"
   ]
  },
  {
   "cell_type": "code",
   "execution_count": 1,
   "metadata": {
    "colab": {},
    "colab_type": "code",
    "id": "N-DX0cQRyxL5"
   },
   "outputs": [
    {
     "ename": "SyntaxError",
     "evalue": "invalid syntax (model.py, line 28)",
     "output_type": "error",
     "traceback": [
      "Traceback \u001b[0;36m(most recent call last)\u001b[0m:\n",
      "  File \u001b[1;32m\"/usr/local/lib/python3.5/dist-packages/IPython/core/interactiveshell.py\"\u001b[0m, line \u001b[1;32m3296\u001b[0m, in \u001b[1;35mrun_code\u001b[0m\n    exec(code_obj, self.user_global_ns, self.user_ns)\n",
      "\u001b[0;36m  File \u001b[0;32m\"<ipython-input-1-e3d5fe17b517>\"\u001b[0;36m, line \u001b[0;32m12\u001b[0;36m, in \u001b[0;35m<module>\u001b[0;36m\u001b[0m\n\u001b[0;31m    from model import MultiScaleCNN, FullyConnected\u001b[0m\n",
      "\u001b[0;36m  File \u001b[0;32m\"/tf/train/model.py\"\u001b[0;36m, line \u001b[0;32m28\u001b[0m\n\u001b[0;31m    to_file=f'{image_dir}/results/{name}.png')\u001b[0m\n\u001b[0m                                            ^\u001b[0m\n\u001b[0;31mSyntaxError\u001b[0m\u001b[0;31m:\u001b[0m invalid syntax\n"
     ]
    }
   ],
   "source": [
    "%load_ext autoreload\n",
    "%autoreload 2\n",
    "\n",
    "from tensorflow.keras.optimizers import SGD, Adam\n",
    "from tensorflow.keras.utils import plot_model\n",
    "from tensorflow.keras.callbacks import ModelCheckpoint\n",
    "from sklearn.model_selection import train_test_split\n",
    "import pandas as pd\n",
    "import matplotlib.pyplot as plt\n",
    "import numpy as np\n",
    "\n",
    "from model import MultiScaleCNN, FullyConnected\n",
    "from image_handlers import ImageLoader, ShackCamLoader"
   ]
  },
  {
   "cell_type": "code",
   "execution_count": null,
   "metadata": {},
   "outputs": [],
   "source": [
    "image_dir = 'a'\n",
    "name = 'b'\n",
    "\n",
    "to_file=f\"{image_dir}/results/{name}.png\""
   ]
  },
  {
   "cell_type": "code",
   "execution_count": null,
   "metadata": {},
   "outputs": [],
   "source": []
  },
  {
   "cell_type": "markdown",
   "metadata": {
    "colab_type": "text",
    "id": "I0pyhNizyxL8"
   },
   "source": [
    "#  Multi-Scale CNN model training strategy \n",
    "\n",
    "1. Train a model with mall data\n",
    "2. Further train the model with ShackCam data\n",
    "3. Adding FC layers and training only the FC layers by setting `mscnn_layer.trainable = False`"
   ]
  },
  {
   "cell_type": "markdown",
   "metadata": {
    "colab_type": "text",
    "id": "SwDtAm6oyxL9"
   },
   "source": [
    "# 1. Train a model with mall data"
   ]
  },
  {
   "cell_type": "markdown",
   "metadata": {
    "colab_type": "text",
    "id": "9D2QUxBTyxL-"
   },
   "source": [
    "### Load mall data"
   ]
  },
  {
   "cell_type": "code",
   "execution_count": 2,
   "metadata": {
    "colab": {},
    "colab_type": "code",
    "id": "2ZtnMR14ByAq"
   },
   "outputs": [],
   "source": [
    "new_shape = 160"
   ]
  },
  {
   "cell_type": "code",
   "execution_count": null,
   "metadata": {
    "colab": {
     "base_uri": "https://localhost:8080/",
     "height": 315
    },
    "colab_type": "code",
    "id": "FjYczhk_yxMA",
    "outputId": "2ae3ff53-1640-493c-e3cf-1740ce339704"
   },
   "outputs": [],
   "source": [
    "mall = ImageLoader(new_shape=new_shape, image_dir='data/mall')\n",
    "mall.load_train_data()\n",
    "mall.plot_image(filename='seq_000499.jpg')\n",
    "print('Total image samples', len(mall.count))"
   ]
  },
  {
   "cell_type": "markdown",
   "metadata": {
    "colab_type": "text",
    "id": "NpR-PxwwyxMH"
   },
   "source": [
    "### Create a model"
   ]
  },
  {
   "cell_type": "code",
   "execution_count": null,
   "metadata": {
    "colab": {},
    "colab_type": "code",
    "id": "IkpiRuiMDKGT"
   },
   "outputs": [],
   "source": [
    "input_shape = (new_shape, new_shape, 3)"
   ]
  },
  {
   "cell_type": "code",
   "execution_count": null,
   "metadata": {
    "colab": {
     "base_uri": "https://localhost:8080/",
     "height": 1516
    },
    "colab_type": "code",
    "id": "ttqXa1o4yxMH",
    "outputId": "208a6fa3-69c3-4ae9-9c66-b2c4ef573d82",
    "scrolled": false
   },
   "outputs": [],
   "source": [
    "model = MultiScaleCNN(input_shape=input_shape, name='mall')"
   ]
  },
  {
   "cell_type": "markdown",
   "metadata": {
    "colab_type": "text",
    "id": "VWOIBrVeyxMM"
   },
   "source": [
    "###  Split data to train/test"
   ]
  },
  {
   "cell_type": "code",
   "execution_count": null,
   "metadata": {
    "colab": {},
    "colab_type": "code",
    "id": "upSGpwQUC-jv"
   },
   "outputs": [],
   "source": [
    "train_size = 0.8"
   ]
  },
  {
   "cell_type": "code",
   "execution_count": null,
   "metadata": {
    "colab": {
     "base_uri": "https://localhost:8080/",
     "height": 105
    },
    "colab_type": "code",
    "id": "eIZv94qAyxMM",
    "outputId": "07f48004-49f0-46a1-9b93-968b3aca7dab",
    "scrolled": true
   },
   "outputs": [],
   "source": [
    "x_train, x_test, y_train, y_test = train_test_split(mall.org_img, mall.gaussian_img, train_size=train_size)\n",
    "print('x_train', x_train.shape, 'x_test', x_test.shape)\n",
    "print('y_train', y_train.shape, 'y_test', y_test.shape)"
   ]
  },
  {
   "cell_type": "markdown",
   "metadata": {
    "colab_type": "text",
    "id": "zktnxxZuyxMT"
   },
   "source": [
    "### Assign optimizer and compile a model"
   ]
  },
  {
   "cell_type": "code",
   "execution_count": null,
   "metadata": {
    "colab": {
     "base_uri": "https://localhost:8080/",
     "height": 1537
    },
    "colab_type": "code",
    "id": "G3tFLcGCyxMU",
    "outputId": "0b0dfdc2-9d3a-4105-984d-a0858b4acc88"
   },
   "outputs": [],
   "source": [
    "model.train(x_train, y_train, epochs=30, batch_size=32)"
   ]
  },
  {
   "cell_type": "code",
   "execution_count": null,
   "metadata": {
    "colab": {
     "base_uri": "https://localhost:8080/",
     "height": 164
    },
    "colab_type": "code",
    "id": "572Q4_3RyxMY",
    "outputId": "2e0bc20a-8933-4843-df02-a20ec790c30c"
   },
   "outputs": [],
   "source": [
    "model.evaluate(x_test, y_test)"
   ]
  },
  {
   "cell_type": "markdown",
   "metadata": {
    "colab_type": "text",
    "id": "zW3kTucayxMc"
   },
   "source": [
    "# 2. Further train the same model with ShackCam data"
   ]
  },
  {
   "cell_type": "markdown",
   "metadata": {
    "colab_type": "text",
    "id": "2PHmKEEcyxMd"
   },
   "source": [
    "### Load shackcam data"
   ]
  },
  {
   "cell_type": "code",
   "execution_count": 3,
   "metadata": {
    "colab": {
     "base_uri": "https://localhost:8080/",
     "height": 311
    },
    "colab_type": "code",
    "id": "BpLAFuc1yxMd",
    "outputId": "d09179aa-a49c-4a5d-fc21-5eb2eba3526c"
   },
   "outputs": [
    {
     "name": "stdout",
     "output_type": "stream",
     "text": [
      "Total image samples 3878\n"
     ]
    },
    {
     "data": {
      "image/png": "[encoded data removed]",
      "text/plain": [
       "<Figure size 1440x360 with 4 Axes>"
      ]
     },
     "metadata": {},
     "output_type": "display_data"
    }
   ],
   "source": [
    "shackcam = ShackCamLoader(new_shape=new_shape, image_dir='data/shackcam')\n",
    "shackcam.load_train_data()\n",
    "shackcam.plot_image(i=500)\n",
    "print('Total image samples', len(shackcam.count))"
   ]
  },
  {
   "cell_type": "markdown",
   "metadata": {
    "colab_type": "text",
    "id": "-QEceUjiyxMh"
   },
   "source": [
    "### Split data to train/test"
   ]
  },
  {
   "cell_type": "code",
   "execution_count": 6,
   "metadata": {},
   "outputs": [
    {
     "ename": "TypeError",
     "evalue": "unhashable type: 'slice'",
     "output_type": "error",
     "traceback": [
      "\u001b[0;31m---------------------------------------------------------------------------\u001b[0m",
      "\u001b[0;31mTypeError\u001b[0m                                 Traceback (most recent call last)",
      "\u001b[0;32m<ipython-input-6-24a383dc2744>\u001b[0m in \u001b[0;36m<module>\u001b[0;34m()\u001b[0m\n\u001b[0;32m----> 1\u001b[0;31m \u001b[0mshackcam\u001b[0m\u001b[0;34m.\u001b[0m\u001b[0mdata\u001b[0m\u001b[0;34m[\u001b[0m\u001b[0;34m:\u001b[0m\u001b[0;36m1\u001b[0m\u001b[0;34m]\u001b[0m\u001b[0;34m\u001b[0m\u001b[0;34m\u001b[0m\u001b[0m\n\u001b[0m",
      "\u001b[0;31mTypeError\u001b[0m: unhashable type: 'slice'"
     ]
    }
   ],
   "source": [
    "shackcam.data[:1]"
   ]
  },
  {
   "cell_type": "code",
   "execution_count": null,
   "metadata": {},
   "outputs": [],
   "source": []
  },
  {
   "cell_type": "code",
   "execution_count": null,
   "metadata": {
    "colab": {
     "base_uri": "https://localhost:8080/",
     "height": 105
    },
    "colab_type": "code",
    "id": "CLM6i7FiyxMi",
    "outputId": "11fa282c-2f3d-40e7-ff59-6240f014011a"
   },
   "outputs": [],
   "source": [
    "x_train, x_test, y_train, y_test = train_test_split(shackcam.org_img, shackcam.gaussian_img, \n",
    "                                                    train_size=train_size)\n",
    "print('x_train', x_train.shape, 'x_test', x_test.shape)\n",
    "print('y_train', y_train.shape, 'y_test', y_test.shape)"
   ]
  },
  {
   "cell_type": "markdown",
   "metadata": {
    "colab_type": "text",
    "id": "f3xWXEyLyxMl"
   },
   "source": [
    "### Load pre-trained weights"
   ]
  },
  {
   "cell_type": "code",
   "execution_count": null,
   "metadata": {
    "colab": {
     "base_uri": "https://localhost:8080/",
     "height": 1618
    },
    "colab_type": "code",
    "id": "F6w2MP0IyxMm",
    "outputId": "e7ad1d8c-633a-4927-a236-04a52af65e4c",
    "scrolled": false
   },
   "outputs": [],
   "source": [
    "model = MultiScaleCNN(input_shape=input_shape, name='shackcam', \n",
    "                      existing_model_path='results/shackcam.h5')"
   ]
  },
  {
   "cell_type": "markdown",
   "metadata": {
    "colab_type": "text",
    "id": "98FC7dBIyxMo"
   },
   "source": [
    "### Assign optimizer and compile a model"
   ]
  },
  {
   "cell_type": "code",
   "execution_count": null,
   "metadata": {
    "colab": {
     "base_uri": "https://localhost:8080/",
     "height": 565
    },
    "colab_type": "code",
    "id": "pkWqYXpTyxMp",
    "outputId": "2490ebe7-d8fd-4dad-9f06-dd7b0e1682eb"
   },
   "outputs": [],
   "source": [
    "model.train(x_train, y_train, lr=0.0005, epochs=5, batch_size=32)"
   ]
  },
  {
   "cell_type": "code",
   "execution_count": null,
   "metadata": {
    "colab": {
     "base_uri": "https://localhost:8080/",
     "height": 34
    },
    "colab_type": "code",
    "id": "TAFUF_oVZakP",
    "outputId": "a29d8c26-fe77-45df-a881-73da03b07f40"
   },
   "outputs": [],
   "source": [
    "model.model.predict(x_test[0:1]).sum()\n",
    "# x_test[0:1].shape"
   ]
  },
  {
   "cell_type": "markdown",
   "metadata": {
    "colab_type": "text",
    "id": "HJM-w5WuyxMs"
   },
   "source": [
    "### Save results and inspect loss"
   ]
  },
  {
   "cell_type": "code",
   "execution_count": null,
   "metadata": {
    "colab": {
     "base_uri": "https://localhost:8080/",
     "height": 68
    },
    "colab_type": "code",
    "id": "S39POPxCyxMt",
    "outputId": "619f80e6-198e-4af1-bead-e565814207ea"
   },
   "outputs": [],
   "source": [
    "model.evaluate(x_test, y_test)"
   ]
  },
  {
   "cell_type": "markdown",
   "metadata": {
    "colab_type": "text",
    "id": "2fYkbHkRyxMw"
   },
   "source": [
    "# Adding FC layers and training only the FC layers"
   ]
  },
  {
   "cell_type": "markdown",
   "metadata": {
    "colab_type": "text",
    "id": "d7t0MPuoyxMx"
   },
   "source": [
    "### Read line counts, align order as shackcam annotations, remove files without counts"
   ]
  },
  {
   "cell_type": "code",
   "execution_count": null,
   "metadata": {
    "colab": {},
    "colab_type": "code",
    "id": "vHt7MxafyxMy"
   },
   "outputs": [],
   "source": [
    "counts = pd.read_csv('data/shackcam/line_counts.csv', names=['file', 'line_count'], header=None)\n",
    "counts = counts[counts.file.isin(shackcam.files)].reset_index(drop=True)\n",
    "masked_gaussian_img = np.array([shackcam.mask_img(shackcam.data[f]['gaussian_img']) for f in counts.file])"
   ]
  },
  {
   "cell_type": "code",
   "execution_count": null,
   "metadata": {
    "colab": {
     "base_uri": "https://localhost:8080/",
     "height": 105
    },
    "colab_type": "code",
    "id": "FM1ubvJAyxM3",
    "outputId": "a11ff84c-1384-416d-9aec-a1958873efeb"
   },
   "outputs": [],
   "source": [
    "x_train, x_test, y_train, y_test = train_test_split(masked_gaussian_img, counts.line_count.values, \n",
    "                                                    train_size=train_size)\n",
    "print('x_train', x_train.shape, 'x_test', x_test.shape)\n",
    "print('y_train', y_train.shape, 'y_test', y_test.shape)"
   ]
  },
  {
   "cell_type": "code",
   "execution_count": null,
   "metadata": {
    "colab": {
     "base_uri": "https://localhost:8080/",
     "height": 411
    },
    "colab_type": "code",
    "id": "YGy-7ah7yxM8",
    "outputId": "c00630e3-9496-4e46-803e-6637a4129dd5"
   },
   "outputs": [],
   "source": [
    "input_shape = (new_shape//4, new_shape//4, 1)\n",
    "model = FullyConnected(input_shape=input_shape, name='shackcam_fc')"
   ]
  },
  {
   "cell_type": "code",
   "execution_count": null,
   "metadata": {
    "colab": {
     "base_uri": "https://localhost:8080/",
     "height": 7195
    },
    "colab_type": "code",
    "id": "ugHFFNzQyxNA",
    "outputId": "111baf67-a4b4-4e64-9e31-472628ac15d1"
   },
   "outputs": [],
   "source": [
    "model.train(x_train, y_train, lr=0.001, epochs=200, batch_size=512)"
   ]
  },
  {
   "cell_type": "code",
   "execution_count": null,
   "metadata": {
    "colab": {
     "base_uri": "https://localhost:8080/",
     "height": 68
    },
    "colab_type": "code",
    "id": "AhJgmKiiyxND",
    "outputId": "05285cb7-af44-4a9e-a03c-1b01a52cc342"
   },
   "outputs": [],
   "source": [
    "model.evaluate(x_test, y_test)"
   ]
  },
  {
   "cell_type": "markdown",
   "metadata": {
    "colab_type": "text",
    "id": "mSNYJQSFyxNF"
   },
   "source": [
    "### Predict"
   ]
  },
  {
   "cell_type": "code",
   "execution_count": null,
   "metadata": {
    "colab": {},
    "colab_type": "code",
    "id": "IIqKN4dIyxNG"
   },
   "outputs": [],
   "source": [
    "def predict(i):\n",
    "  shackcam.plot_image(i=i)\n",
    "  pred = model.model.predict(shackcam.gaussian_img[i].reshape((1, *input_shape)))[0][0]\n",
    "  truth = counts.iloc[i, 1]\n",
    "  print('Pred', int(round(pred)))\n",
    "  print('Truth', truth)"
   ]
  },
  {
   "cell_type": "code",
   "execution_count": null,
   "metadata": {
    "colab": {
     "base_uri": "https://localhost:8080/",
     "height": 328
    },
    "colab_type": "code",
    "id": "4OvbwPoOHlFR",
    "outputId": "91d8699e-bea7-4bfc-d7b7-03fb9a3c6953"
   },
   "outputs": [],
   "source": [
    "predict(1630)"
   ]
  },
  {
   "cell_type": "code",
   "execution_count": null,
   "metadata": {
    "colab": {
     "base_uri": "https://localhost:8080/",
     "height": 328
    },
    "colab_type": "code",
    "id": "nVsRem49L8fb",
    "outputId": "96139f35-1c9b-409c-dd55-83608cce066c"
   },
   "outputs": [],
   "source": [
    "predict(100)"
   ]
  },
  {
   "cell_type": "code",
   "execution_count": null,
   "metadata": {
    "colab": {
     "base_uri": "https://localhost:8080/",
     "height": 328
    },
    "colab_type": "code",
    "id": "LVFqErkRL-O8",
    "outputId": "e7a7ad77-d96c-4923-c7b1-bfffdd0f9fb0"
   },
   "outputs": [],
   "source": [
    "predict(1084)"
   ]
  },
  {
   "cell_type": "markdown",
   "metadata": {
    "colab_type": "text",
    "id": "CvxSrCqHWGj4"
   },
   "source": [
    "# Predict density"
   ]
  },
  {
   "cell_type": "code",
   "execution_count": null,
   "metadata": {
    "colab": {},
    "colab_type": "code",
    "id": "9obClYjhWHx5"
   },
   "outputs": [],
   "source": [
    "from tensorflow.python.keras.models import load_model\n",
    "import cv2\n",
    "import matplotlib.pyplot as plt\n",
    "import numpy as np"
   ]
  },
  {
   "cell_type": "code",
   "execution_count": null,
   "metadata": {
    "colab": {},
    "colab_type": "code",
    "id": "1xtxuOGrWT0K"
   },
   "outputs": [],
   "source": [
    "mscnn = load_model('results/mall.h5')\n",
    "fc = load_model('results/shackcam_fc.h5')"
   ]
  },
  {
   "cell_type": "code",
   "execution_count": null,
   "metadata": {
    "colab": {
     "base_uri": "https://localhost:8080/",
     "height": 34
    },
    "colab_type": "code",
    "id": "1gXTjdapWqO4",
    "outputId": "598dbe40-e100-48d9-fe39-beb8c51b76fc"
   },
   "outputs": [],
   "source": [
    "mscnn.predict(np.expand_dims(shackcam.org_img[1], axis=0)).sum()"
   ]
  },
  {
   "cell_type": "code",
   "execution_count": null,
   "metadata": {
    "colab": {},
    "colab_type": "code",
    "id": "JS7Cc749Xphk"
   },
   "outputs": [],
   "source": []
  }
 ],
 "metadata": {
  "accelerator": "GPU",
  "colab": {
   "collapsed_sections": [],
   "include_colab_link": true,
   "name": "train.ipynb",
   "provenance": [],
   "version": "0.3.2"
  },
  "kernelspec": {
   "display_name": "Python 3",
   "language": "python",
   "name": "python3"
  },
  "language_info": {
   "codemirror_mode": {
    "name": "ipython",
    "version": 3
   },
   "file_extension": ".py",
   "mimetype": "text/x-python",
   "name": "python",
   "nbconvert_exporter": "python",
   "pygments_lexer": "ipython3",
   "version": "3.5.2"
  }
 },
 "nbformat": 4,
 "nbformat_minor": 1
}
